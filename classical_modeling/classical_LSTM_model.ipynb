{
 "cells": [
  {
   "cell_type": "code",
   "execution_count": 2,
   "metadata": {
    "id": "pXAl9lvXssXI"
   },
   "outputs": [],
   "source": [
    "import torch\n",
    "import torch.nn as nn\n",
    "import torch.nn.functional as F\n",
    "import torch.optim as optim\n",
    "import numpy as np\n",
    "import os\n",
    "import copy\n",
    "\n",
    "import pandas as pd\n",
    "from torch.utils.data import dataloader, Dataset\n",
    "from tqdm.auto import tqdm"
   ]
  },
  {
   "cell_type": "code",
   "execution_count": 3,
   "metadata": {
    "id": "DtppKZfF87Vw"
   },
   "outputs": [],
   "source": [
    "device = torch.device(\"cuda\" if torch.cuda.is_available() else \"cpu\")"
   ]
  },
  {
   "cell_type": "code",
   "execution_count": 4,
   "metadata": {},
   "outputs": [
    {
     "data": {
      "text/plain": [
       "<torch._C.Generator at 0x7f2d8432ca10>"
      ]
     },
     "execution_count": 4,
     "metadata": {},
     "output_type": "execute_result"
    }
   ],
   "source": [
    "RANDOM_SEED = 42\n",
    "np.random.seed(RANDOM_SEED)\n",
    "torch.manual_seed(RANDOM_SEED)"
   ]
  },
  {
   "cell_type": "markdown",
   "metadata": {},
   "source": [
    "## Load Our Data"
   ]
  },
  {
   "cell_type": "code",
   "execution_count": 5,
   "metadata": {},
   "outputs": [],
   "source": [
    "mali = np.load('mal_collect.npy')"
   ]
  },
  {
   "cell_type": "code",
   "execution_count": 6,
   "metadata": {},
   "outputs": [
    {
     "data": {
      "text/plain": [
       "(2915, 8, 10)"
      ]
     },
     "execution_count": 6,
     "metadata": {},
     "output_type": "execute_result"
    }
   ],
   "source": [
    "mali.shape"
   ]
  },
  {
   "cell_type": "code",
   "execution_count": 7,
   "metadata": {},
   "outputs": [],
   "source": [
    "benign = np.load('benign_collect.npy')"
   ]
  },
  {
   "cell_type": "code",
   "execution_count": 8,
   "metadata": {},
   "outputs": [
    {
     "data": {
      "text/plain": [
       "(3085, 8, 10)"
      ]
     },
     "execution_count": 8,
     "metadata": {},
     "output_type": "execute_result"
    }
   ],
   "source": [
    "benign.shape"
   ]
  },
  {
   "cell_type": "code",
   "execution_count": 9,
   "metadata": {},
   "outputs": [
    {
     "data": {
      "text/plain": [
       "array([[[5, 2, 1, ..., 1, 1, 0],\n",
       "        [3, 1, 1, ..., 2, 1, 0],\n",
       "        [1, 1, 1, ..., 1, 1, 0],\n",
       "        ...,\n",
       "        [5, 1, 1, ..., 1, 1, 0],\n",
       "        [3, 4, 5, ..., 6, 1, 0],\n",
       "        [3, 1, 2, ..., 1, 1, 0]],\n",
       "\n",
       "       [[3, 1, 1, ..., 1, 1, 0],\n",
       "        [3, 1, 1, ..., 1, 1, 0],\n",
       "        [3, 1, 1, ..., 1, 1, 0],\n",
       "        ...,\n",
       "        [1, 1, 1, ..., 1, 1, 0],\n",
       "        [5, 3, 3, ..., 1, 1, 0],\n",
       "        [3, 1, 4, ..., 1, 1, 0]],\n",
       "\n",
       "       [[1, 1, 1, ..., 1, 1, 0],\n",
       "        [1, 1, 1, ..., 1, 1, 0],\n",
       "        [1, 1, 1, ..., 1, 1, 0],\n",
       "        ...,\n",
       "        [3, 1, 1, ..., 1, 1, 0],\n",
       "        [1, 1, 1, ..., 1, 1, 0],\n",
       "        [3, 1, 1, ..., 1, 1, 0]],\n",
       "\n",
       "       ...,\n",
       "\n",
       "       [[5, 1, 1, ..., 1, 1, 0],\n",
       "        [3, 1, 1, ..., 1, 1, 0],\n",
       "        [1, 2, 3, ..., 1, 1, 0],\n",
       "        ...,\n",
       "        [3, 1, 1, ..., 1, 1, 0],\n",
       "        [1, 1, 1, ..., 1, 1, 0],\n",
       "        [4, 1, 1, ..., 1, 1, 0]],\n",
       "\n",
       "       [[5, 1, 3, ..., 1, 1, 0],\n",
       "        [2, 1, 1, ..., 1, 1, 0],\n",
       "        [2, 1, 1, ..., 1, 1, 0],\n",
       "        ...,\n",
       "        [4, 1, 1, ..., 1, 1, 0],\n",
       "        [2, 1, 1, ..., 1, 1, 0],\n",
       "        [5, 2, 2, ..., 1, 1, 0]],\n",
       "\n",
       "       [[5, 1, 1, ..., 1, 1, 0],\n",
       "        [1, 1, 1, ..., 1, 1, 0],\n",
       "        [2, 1, 1, ..., 1, 1, 0],\n",
       "        ...,\n",
       "        [2, 1, 1, ..., 1, 1, 0],\n",
       "        [3, 1, 1, ..., 1, 1, 0],\n",
       "        [3, 1, 1, ..., 1, 2, 0]]])"
      ]
     },
     "execution_count": 9,
     "metadata": {},
     "output_type": "execute_result"
    }
   ],
   "source": [
    "benign"
   ]
  },
  {
   "cell_type": "code",
   "execution_count": 10,
   "metadata": {},
   "outputs": [],
   "source": [
    "benign_no_label = benign[:, :, :-1]\n",
    "benign_no_label = benign_no_label / 10.0"
   ]
  },
  {
   "cell_type": "code",
   "execution_count": 11,
   "metadata": {},
   "outputs": [],
   "source": [
    "mali_no_label = mali[:, :, :-1]\n",
    "mali_no_label = mali_no_label / 10.0"
   ]
  },
  {
   "cell_type": "code",
   "execution_count": 12,
   "metadata": {},
   "outputs": [
    {
     "data": {
      "text/plain": [
       "array([[[0.2, 0.1, 0.1, ..., 0.3, 0.1, 0.1],\n",
       "        [0.4, 0.1, 0.1, ..., 0.2, 0.1, 0.1],\n",
       "        [0.3, 0.1, 0.1, ..., 0.2, 0.1, 0.1],\n",
       "        ...,\n",
       "        [0.4, 0.1, 0.1, ..., 0.3, 0.1, 0.1],\n",
       "        [0.2, 0.3, 0.1, ..., 0.1, 0.1, 0.1],\n",
       "        [0.5, 0.1, 0.2, ..., 0.3, 0.1, 0.1]],\n",
       "\n",
       "       [[0.5, 0.1, 0.1, ..., 0.3, 0.1, 0.1],\n",
       "        [0.1, 0.1, 0.1, ..., 0.1, 0.1, 0.1],\n",
       "        [0.8, 0.4, 0.5, ..., 0.7, 0.3, 0.1],\n",
       "        ...,\n",
       "        [0.6, 1. , 1. , ..., 1. , 1. , 0.7],\n",
       "        [0.8, 1. , 1. , ..., 0.7, 0.8, 0.1],\n",
       "        [1. , 0.5, 0.7, ..., 0.8, 0.9, 0.1]],\n",
       "\n",
       "       [[0.3, 0.4, 0.4, ..., 0.3, 0.3, 0.1],\n",
       "        [0.3, 0.6, 0.4, ..., 0.3, 0.4, 0.1],\n",
       "        [0.4, 0.1, 0.1, ..., 0.2, 0.1, 0.1],\n",
       "        ...,\n",
       "        [0.5, 0.1, 0.1, ..., 0.2, 0.1, 0.1],\n",
       "        [1. , 0.1, 0.1, ..., 0.5, 0.4, 0.1],\n",
       "        [0.3, 1. , 0.3, ..., 0.5, 0.1, 0.4]],\n",
       "\n",
       "       ...,\n",
       "\n",
       "       [[0.3, 0.1, 0.1, ..., 0.2, 0.1, 0.1],\n",
       "        [0.1, 0.1, 0.1, ..., 0.3, 0.1, 0.1],\n",
       "        [0.1, 0.1, 0.1, ..., 0.3, 0.1, 0.1],\n",
       "        ...,\n",
       "        [0.5, 0.4, 0.6, ..., 0.8, 1. , 0.1],\n",
       "        [0.5, 0.3, 0.2, ..., 0.8, 0.1, 0.2],\n",
       "        [0.9, 0.8, 0.8, ..., 0.4, 1. , 0.4]],\n",
       "\n",
       "       [[0.3, 0.1, 0.1, ..., 0.2, 0.2, 0.1],\n",
       "        [0.5, 0.3, 0.3, ..., 0.3, 0.3, 0.3],\n",
       "        [0.3, 0.1, 0.1, ..., 0.3, 0.1, 0.1],\n",
       "        ...,\n",
       "        [0.5, 0.1, 0.1, ..., 0.3, 0.1, 0.1],\n",
       "        [0.1, 0.1, 0.1, ..., 0.3, 0.1, 0.1],\n",
       "        [0.6, 0.2, 0.1, ..., 0.7, 0.1, 0.1]],\n",
       "\n",
       "       [[0.4, 0.1, 0.1, ..., 0.3, 0.1, 0.1],\n",
       "        [0.3, 0.1, 0.1, ..., 0.2, 0.1, 0.1],\n",
       "        [0.3, 0.1, 0.1, ..., 0.2, 0.1, 0.2],\n",
       "        ...,\n",
       "        [0.2, 0.1, 0.1, ..., 0.3, 0.1, 0.1],\n",
       "        [0.4, 0.8, 0.8, ..., 1. , 0.4, 0.1],\n",
       "        [0.6, 0.9, 0.7, ..., 0.4, 0.2, 0.1]]])"
      ]
     },
     "execution_count": 12,
     "metadata": {},
     "output_type": "execute_result"
    }
   ],
   "source": [
    "mali_no_label"
   ]
  },
  {
   "cell_type": "code",
   "execution_count": 13,
   "metadata": {},
   "outputs": [],
   "source": [
    "from sklearn.model_selection import train_test_split\n",
    "\n",
    "RANDOM_SEED = 42\n",
    "\n",
    "train_df, val_df = train_test_split(\n",
    "  benign_no_label,\n",
    "  test_size=0.15,\n",
    "  random_state=RANDOM_SEED\n",
    ")\n",
    "\n",
    "val_df, test_df = train_test_split(\n",
    "  val_df,\n",
    "  test_size=0.33, \n",
    "  random_state=RANDOM_SEED\n",
    ")"
   ]
  },
  {
   "cell_type": "code",
   "execution_count": 14,
   "metadata": {},
   "outputs": [],
   "source": [
    "from torch.utils.data import DataLoader\n",
    "\n",
    "batch_size = 1\n",
    "train_ds = [torch.tensor(s).squeeze(-1).float() for s in train_df]\n",
    "train_dl = DataLoader(train_ds, batch_size, shuffle=True, num_workers=2, pin_memory=True)\n",
    "\n",
    "test_ds = [torch.tensor(s).squeeze(-1).float() for s in test_df]\n",
    "test_dl = DataLoader(test_ds, 1, shuffle=True, num_workers=2, pin_memory=True)\n",
    "\n",
    "val_ds = [torch.tensor(s).squeeze(-1).float() for s in val_df]\n",
    "val_dl = DataLoader(val_ds, batch_size, shuffle=True, num_workers=2, pin_memory=True)\n",
    "\n",
    "test_mal_ds = [torch.tensor(s).squeeze(-1).float() for s in mali_no_label]\n",
    "test_mal_dl = DataLoader(test_mal_ds, 1, shuffle=True, num_workers=2, pin_memory=True)"
   ]
  },
  {
   "cell_type": "code",
   "execution_count": 15,
   "metadata": {},
   "outputs": [
    {
     "name": "stdout",
     "output_type": "stream",
     "text": [
      "torch.Size([1, 8, 9])\n"
     ]
    }
   ],
   "source": [
    "for i, s in enumerate(train_dl):\n",
    "    print(s.size())\n",
    "    break"
   ]
  },
  {
   "cell_type": "markdown",
   "metadata": {
    "id": "gz2rt4c18nAc"
   },
   "source": [
    "# LSTM"
   ]
  },
  {
   "cell_type": "code",
   "execution_count": 16,
   "metadata": {
    "id": "seScNw9N1hew"
   },
   "outputs": [],
   "source": [
    "class Encoder(nn.Module):\n",
    "\n",
    "  def __init__(self, seq_len, n_features, embedding_dim=64):\n",
    "    super(Encoder, self).__init__()\n",
    "\n",
    "    self.seq_len, self.n_features = seq_len, n_features\n",
    "    self.embedding_dim, self.hidden_dim = embedding_dim, 2 * embedding_dim\n",
    "\n",
    "    self.rnn1 = nn.LSTM(\n",
    "      input_size=n_features,\n",
    "      hidden_size=self.hidden_dim,\n",
    "      num_layers=1,\n",
    "      batch_first=True\n",
    "    )\n",
    "    \n",
    "    self.rnn2 = nn.LSTM(\n",
    "      input_size=self.hidden_dim,\n",
    "      hidden_size=embedding_dim,\n",
    "      num_layers=1,\n",
    "      batch_first=True\n",
    "    )\n",
    "\n",
    "  def forward(self, x):\n",
    "    x, (_, _) = self.rnn1(x)\n",
    "    x, (hidden_n, _) = self.rnn2(x)\n",
    "\n",
    "#     return hidden_n.reshape((self.n_features, self.embedding_dim))\n",
    "    return hidden_n.reshape((x.size(0), 1, self.embedding_dim))\n",
    "#     return hidden_n"
   ]
  },
  {
   "cell_type": "code",
   "execution_count": 17,
   "metadata": {
    "id": "IvjVTvoF2WVc"
   },
   "outputs": [],
   "source": [
    "class Decoder(nn.Module):\n",
    "\n",
    "  def __init__(self, seq_len, input_dim=64, n_features=1):\n",
    "    super(Decoder, self).__init__()\n",
    "\n",
    "    self.seq_len, self.input_dim = seq_len, input_dim\n",
    "    self.hidden_dim, self.n_features = 2 * input_dim, n_features\n",
    "\n",
    "    self.rnn1 = nn.LSTM(\n",
    "      input_size=input_dim,\n",
    "      hidden_size=input_dim,\n",
    "      num_layers=1,\n",
    "      batch_first=True\n",
    "    )\n",
    "\n",
    "    self.rnn2 = nn.LSTM(\n",
    "      input_size=input_dim,\n",
    "      hidden_size=self.hidden_dim,\n",
    "      num_layers=1,\n",
    "      batch_first=True\n",
    "    )\n",
    "\n",
    "    self.output_layer = nn.Linear(self.hidden_dim, n_features)\n",
    "\n",
    "  def forward(self, x):\n",
    "    x = x.repeat(1, self.seq_len, 1)\n",
    "#     print(x.size())\n",
    "#     x = x.repeat(self.seq_len, self.n_features)\n",
    "#     x = x.reshape((self.n_features, self.seq_len, self.input_dim))\n",
    "#     print(x.size())\n",
    "    x, (hidden_n, cell_n) = self.rnn1(x)\n",
    "    x, (hidden_n, cell_n) = self.rnn2(x)\n",
    "#     x = x.reshape((self.seq_len, self.hidden_dim))\n",
    "\n",
    "    return self.output_layer(x)"
   ]
  },
  {
   "cell_type": "code",
   "execution_count": 18,
   "metadata": {
    "id": "dZDUw1p52XIL"
   },
   "outputs": [],
   "source": [
    "class RecurrentAutoencoder(nn.Module):\n",
    "\n",
    "  def __init__(self, seq_len, n_features, embedding_dim=64):\n",
    "    super(RecurrentAutoencoder, self).__init__()\n",
    "\n",
    "    self.encoder = Encoder(seq_len, n_features, embedding_dim).to(device)\n",
    "    self.decoder = Decoder(seq_len, embedding_dim, n_features).to(device)\n",
    "\n",
    "  def forward(self, x):\n",
    "    x = self.encoder(x)\n",
    "    x = self.decoder(x)\n",
    "#     print(x.size())\n",
    "    \n",
    "    return x"
   ]
  },
  {
   "cell_type": "code",
   "execution_count": 19,
   "metadata": {
    "id": "w3VAeVw92d42"
   },
   "outputs": [],
   "source": [
    "seq_len, n_features = 8, 9\n",
    "model = RecurrentAutoencoder(seq_len, n_features, 128)\n",
    "model = model.to(device)"
   ]
  },
  {
   "cell_type": "code",
   "execution_count": 20,
   "metadata": {
    "id": "04Dqd3wf22nE"
   },
   "outputs": [],
   "source": [
    "def train_model(model, train_dataset, val_dataset, n_epochs):\n",
    "  optimizer = torch.optim.Adam(model.parameters(), lr=0.01)\n",
    "  criterion = nn.L1Loss(reduction='sum').to(device)\n",
    "  history = dict(train=[], val=[])\n",
    "\n",
    "  best_model_wts = copy.deepcopy(model.state_dict())\n",
    "  best_loss = 10000.0\n",
    "  \n",
    "  for epoch in range(1, n_epochs + 1):\n",
    "    model = model.train()\n",
    "\n",
    "    train_losses = []\n",
    "    for seq_true in train_dataset:\n",
    "      optimizer.zero_grad()\n",
    "\n",
    "      seq_true = seq_true.to(device)\n",
    "      seq_pred = model(seq_true)\n",
    "\n",
    "      loss = criterion(seq_pred, seq_true)\n",
    "\n",
    "      loss.backward()\n",
    "      optimizer.step()\n",
    "\n",
    "      train_losses.append(loss.item())\n",
    "\n",
    "    val_losses = []\n",
    "    model = model.eval()\n",
    "    with torch.no_grad():\n",
    "      for seq_true in val_dataset:\n",
    "\n",
    "        seq_true = seq_true.to(device)\n",
    "        seq_pred = model(seq_true)\n",
    "\n",
    "        loss = criterion(seq_pred, seq_true)\n",
    "        val_losses.append(loss.item())\n",
    "\n",
    "    train_loss = np.mean(train_losses)\n",
    "    val_loss = np.mean(val_losses)\n",
    "\n",
    "    history['train'].append(train_loss)\n",
    "    history['val'].append(val_loss)\n",
    "\n",
    "    if val_loss < best_loss:\n",
    "      best_loss = val_loss\n",
    "      best_model_wts = copy.deepcopy(model.state_dict())\n",
    "\n",
    "    print(f'Epoch {epoch}: train loss {train_loss} val loss {val_loss}')\n",
    "\n",
    "  model.load_state_dict(best_model_wts)\n",
    "  return model.eval(), history"
   ]
  },
  {
   "cell_type": "code",
   "execution_count": 21,
   "metadata": {},
   "outputs": [
    {
     "data": {
      "text/plain": [
       "device(type='cuda')"
      ]
     },
     "execution_count": 21,
     "metadata": {},
     "output_type": "execute_result"
    }
   ],
   "source": [
    "device"
   ]
  },
  {
   "cell_type": "code",
   "execution_count": 22,
   "metadata": {
    "colab": {
     "base_uri": "https://localhost:8080/"
    },
    "id": "8weGOFLcQgdk",
    "outputId": "716e3c33-a3e5-4b4d-d545-d203b4316ff6"
   },
   "outputs": [
    {
     "name": "stdout",
     "output_type": "stream",
     "text": [
      "Epoch 1: train loss 3.162719339086844 val loss 3.129338313302686\n",
      "Epoch 2: train loss 3.134096293141149 val loss 3.1230125519537157\n",
      "Epoch 3: train loss 3.1363408879229895 val loss 3.1627537831183403\n",
      "Epoch 4: train loss 3.1364318807328773 val loss 3.1559502467032403\n",
      "Epoch 5: train loss 3.131764788740378 val loss 3.1287545061880544\n",
      "Epoch 6: train loss 3.1340632838297218 val loss 3.1546428488146874\n",
      "Epoch 7: train loss 3.1350161657589797 val loss 3.1408153699290366\n",
      "Epoch 8: train loss 3.13355544152649 val loss 3.1155358872106\n",
      "Epoch 9: train loss 3.133800326868562 val loss 3.1213336321615404\n",
      "Epoch 10: train loss 3.133454930409505 val loss 3.146404008326992\n",
      "Epoch 11: train loss 3.1310320158072047 val loss 3.1080806966750854\n",
      "Epoch 12: train loss 3.132446610204688 val loss 3.13177142489341\n",
      "Epoch 13: train loss 3.1330871659549113 val loss 3.0880053712475686\n",
      "Epoch 14: train loss 3.1300555057511086 val loss 3.13320873168207\n",
      "Epoch 15: train loss 3.1335505829295704 val loss 3.1847350447408616\n",
      "Epoch 16: train loss 3.136402173591515 val loss 3.218756651493811\n",
      "Epoch 17: train loss 3.135914515894301 val loss 3.1128789090341136\n",
      "Epoch 18: train loss 3.1318942940844368 val loss 3.13033248916749\n",
      "Epoch 19: train loss 3.1313697578659685 val loss 3.10818286595806\n",
      "Epoch 20: train loss 3.1333837976535706 val loss 3.1603086717667117\n"
     ]
    }
   ],
   "source": [
    "model, history = train_model(\n",
    "  model, \n",
    "  train_dl, \n",
    "  val_dl, \n",
    "  n_epochs=20\n",
    ")"
   ]
  },
  {
   "cell_type": "code",
   "execution_count": 23,
   "metadata": {},
   "outputs": [
    {
     "data": {
      "image/png": "[encoded data removed]",
      "text/plain": [
       "<Figure size 640x480 with 1 Axes>"
      ]
     },
     "metadata": {},
     "output_type": "display_data"
    }
   ],
   "source": [
    "import matplotlib.pyplot as plt\n",
    "\n",
    "ax = plt.figure().gca()\n",
    "\n",
    "ax.plot(history['train'])\n",
    "ax.plot(history['val'])\n",
    "plt.ylabel('Loss')\n",
    "plt.xlabel('Epoch')\n",
    "plt.legend(['train', 'test'])\n",
    "plt.title('Loss over training epochs')\n",
    "plt.show();"
   ]
  },
  {
   "cell_type": "code",
   "execution_count": 24,
   "metadata": {},
   "outputs": [],
   "source": [
    "def predict(model, dataset):\n",
    "  predictions, losses = [], []\n",
    "  criterion = nn.L1Loss(reduction='sum').to(device)\n",
    "  with torch.no_grad():\n",
    "    model = model.eval()\n",
    "    for seq_true in dataset:\n",
    "      seq_true = seq_true.to(device)\n",
    "      seq_pred = model(seq_true)\n",
    "\n",
    "      loss = criterion(seq_pred, seq_true)\n",
    "\n",
    "      predictions.append(seq_pred.cpu().numpy().flatten())\n",
    "      losses.append(loss.item())\n",
    "  return predictions, losses"
   ]
  },
  {
   "cell_type": "code",
   "execution_count": 25,
   "metadata": {},
   "outputs": [
    {
     "name": "stderr",
     "output_type": "stream",
     "text": [
      "/tmp/ipykernel_31714/2751841521.py:5: UserWarning: \n",
      "\n",
      "`distplot` is a deprecated function and will be removed in seaborn v0.14.0.\n",
      "\n",
      "Please adapt your code to use either `displot` (a figure-level function with\n",
      "similar flexibility) or `histplot` (an axes-level function for histograms).\n",
      "\n",
      "For a guide to updating your code to use the new functions, please see\n",
      "https://gist.github.com/mwaskom/de44147ed2974457ad6372750bbe5751\n",
      "\n",
      "  sns.distplot(losses, bins=50, kde=True);\n"
     ]
    },
    {
     "data": {
      "image/png": "[encoded data removed]",
      "text/plain": [
       "<Figure size 640x480 with 1 Axes>"
      ]
     },
     "metadata": {},
     "output_type": "display_data"
    }
   ],
   "source": [
    "import seaborn as sns\n",
    "\n",
    "_, losses = predict(model, train_dl)\n",
    "\n",
    "sns.distplot(losses, bins=50, kde=True);"
   ]
  },
  {
   "cell_type": "code",
   "execution_count": 26,
   "metadata": {},
   "outputs": [],
   "source": [
    "THRESHOLD = 6"
   ]
  },
  {
   "cell_type": "code",
   "execution_count": 27,
   "metadata": {},
   "outputs": [
    {
     "name": "stdout",
     "output_type": "stream",
     "text": [
      "Train accuracy: 0.9862700228832952\n"
     ]
    }
   ],
   "source": [
    "train_correct = sum(l <= THRESHOLD for l in losses)\n",
    "train_accuracy = train_correct/len(train_dl)\n",
    "print(f'Train accuracy: {train_accuracy}')"
   ]
  },
  {
   "cell_type": "code",
   "execution_count": 28,
   "metadata": {
    "scrolled": true
   },
   "outputs": [
    {
     "name": "stderr",
     "output_type": "stream",
     "text": [
      "/tmp/ipykernel_31714/1060344979.py:2: UserWarning: \n",
      "\n",
      "`distplot` is a deprecated function and will be removed in seaborn v0.14.0.\n",
      "\n",
      "Please adapt your code to use either `displot` (a figure-level function with\n",
      "similar flexibility) or `histplot` (an axes-level function for histograms).\n",
      "\n",
      "For a guide to updating your code to use the new functions, please see\n",
      "https://gist.github.com/mwaskom/de44147ed2974457ad6372750bbe5751\n",
      "\n",
      "  sns.distplot(benign_pred_losses, bins=50, kde=True);\n"
     ]
    },
    {
     "data": {
      "image/png": "[encoded data removed]",
      "text/plain": [
       "<Figure size 640x480 with 1 Axes>"
      ]
     },
     "metadata": {},
     "output_type": "display_data"
    }
   ],
   "source": [
    "benign_predictions, benign_pred_losses = predict(model, test_dl)\n",
    "sns.distplot(benign_pred_losses, bins=50, kde=True);"
   ]
  },
  {
   "cell_type": "code",
   "execution_count": 29,
   "metadata": {},
   "outputs": [
    {
     "name": "stdout",
     "output_type": "stream",
     "text": [
      "Correct benign predictions: 151/153\n"
     ]
    }
   ],
   "source": [
    "benign_correct = sum(l <= THRESHOLD for l in benign_pred_losses)\n",
    "print(f'Correct benign predictions: {benign_correct}/{len(test_dl)}')"
   ]
  },
  {
   "cell_type": "code",
   "execution_count": 30,
   "metadata": {},
   "outputs": [
    {
     "data": {
      "text/plain": [
       "0.9869281045751634"
      ]
     },
     "execution_count": 30,
     "metadata": {},
     "output_type": "execute_result"
    }
   ],
   "source": [
    "benign_accuracy = benign_correct/len(test_dl)\n",
    "benign_accuracy"
   ]
  },
  {
   "cell_type": "code",
   "execution_count": 31,
   "metadata": {},
   "outputs": [
    {
     "name": "stderr",
     "output_type": "stream",
     "text": [
      "/tmp/ipykernel_31714/2290286343.py:2: UserWarning: \n",
      "\n",
      "`distplot` is a deprecated function and will be removed in seaborn v0.14.0.\n",
      "\n",
      "Please adapt your code to use either `displot` (a figure-level function with\n",
      "similar flexibility) or `histplot` (an axes-level function for histograms).\n",
      "\n",
      "For a guide to updating your code to use the new functions, please see\n",
      "https://gist.github.com/mwaskom/de44147ed2974457ad6372750bbe5751\n",
      "\n",
      "  sns.distplot(mal_pred_losses, bins=50, kde=True);\n"
     ]
    },
    {
     "data": {
      "image/png": "[encoded data removed]",
      "text/plain": [
       "<Figure size 640x480 with 1 Axes>"
      ]
     },
     "metadata": {},
     "output_type": "display_data"
    }
   ],
   "source": [
    "mal_predictions, mal_pred_losses = predict(model, test_mal_dl)\n",
    "sns.distplot(mal_pred_losses, bins=50, kde=True);"
   ]
  },
  {
   "cell_type": "code",
   "execution_count": 32,
   "metadata": {},
   "outputs": [
    {
     "name": "stdout",
     "output_type": "stream",
     "text": [
      "Correct anomaly predictions: 2319/2915\n"
     ]
    }
   ],
   "source": [
    "mal_correct = sum(l > THRESHOLD for l in mal_pred_losses)\n",
    "print(f'Correct anomaly predictions: {mal_correct}/{len(test_mal_dl)}')"
   ]
  },
  {
   "cell_type": "code",
   "execution_count": 33,
   "metadata": {},
   "outputs": [
    {
     "data": {
      "text/plain": [
       "79.5540308747856"
      ]
     },
     "execution_count": 33,
     "metadata": {},
     "output_type": "execute_result"
    }
   ],
   "source": [
    "mal_accuracy = (mal_correct/len(test_mal_dl))*100\n",
    "mal_accuracy"
   ]
  },
  {
   "cell_type": "code",
   "execution_count": 34,
   "metadata": {},
   "outputs": [
    {
     "name": "stdout",
     "output_type": "stream",
     "text": [
      "Total test accuracy: 0.8050847457627118\n"
     ]
    }
   ],
   "source": [
    "test_accuracy = (mal_correct+benign_correct)/(len(test_mal_dl)+len(test_dl))\n",
    "print(f'Total test accuracy: {test_accuracy}')"
   ]
  },
  {
   "cell_type": "code",
   "execution_count": 58,
   "metadata": {},
   "outputs": [
    {
     "data": {
      "image/png": "[encoded data removed]",
      "text/plain": [
       "<Figure size 900x500 with 2 Axes>"
      ]
     },
     "metadata": {},
     "output_type": "display_data"
    }
   ],
   "source": [
    "import matplotlib.pyplot as plt\n",
    "\n",
    "fig, axs = plt.subplots(1, 2, figsize=(9, 5), sharey=True)\n",
    "sns.boxplot(mal_pred_losses, ax=axs[0])\n",
    "axs[0].set_title(\"Malignant Tumor Losses\")\n",
    "axs[0].set_xlabel('Loss values')\n",
    "axs[0].set_xticklabels([])\n",
    "axs[0].grid()\n",
    "    \n",
    "sns.boxplot(benign_pred_losses, ax=axs[1])\n",
    "axs[1].set_title(\"Benign Tumor Losses\")\n",
    "axs[1].set_xlabel('Loss values')\n",
    "axs[1].set_xticklabels([])\n",
    "axs[1].grid()"
   ]
  },
  {
   "cell_type": "code",
   "execution_count": 59,
   "metadata": {},
   "outputs": [],
   "source": [
    "fig.savefig('classical_loss_boxplots.png')"
   ]
  }
 ],
 "metadata": {
  "colab": {
   "provenance": []
  },
  "kernelspec": {
   "display_name": "Python 3 (ipykernel)",
   "language": "python",
   "name": "python3"
  },
  "language_info": {
   "codemirror_mode": {
    "name": "ipython",
    "version": 3
   },
   "file_extension": ".py",
   "mimetype": "text/x-python",
   "name": "python",
   "nbconvert_exporter": "python",
   "pygments_lexer": "ipython3",
   "version": "3.9.16"
  }
 },
 "nbformat": 4,
 "nbformat_minor": 1
}
