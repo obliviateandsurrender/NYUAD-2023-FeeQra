{
  "nbformat": 4,
  "nbformat_minor": 0,
  "metadata": {
    "colab": {
      "provenance": []
    },
    "kernelspec": {
      "name": "python3",
      "display_name": "Python 3"
    },
    "language_info": {
      "name": "python"
    }
  },
  "cells": [
    {
      "cell_type": "code",
      "source": [
        "!pip install keras"
      ],
      "metadata": {
        "colab": {
          "base_uri": "https://localhost:8080/"
        },
        "id": "JeKojugOaMjt",
        "outputId": "f7c5190b-e29e-48aa-9220-d4aad265637f"
      },
      "execution_count": 1,
      "outputs": [
        {
          "output_type": "stream",
          "name": "stdout",
          "text": [
            "Looking in indexes: https://pypi.org/simple, https://us-python.pkg.dev/colab-wheels/public/simple/\n",
            "Requirement already satisfied: keras in /usr/local/lib/python3.10/dist-packages (2.12.0)\n"
          ]
        }
      ]
    },
    {
      "cell_type": "code",
      "source": [
        "import numpy as np\n",
        "\n",
        "# Load the matrix from a .npy file\n",
        "matrix = np.load('dataset.npy')"
      ],
      "metadata": {
        "id": "jHD9NfSwd7po"
      },
      "execution_count": 4,
      "outputs": []
    },
    {
      "cell_type": "code",
      "source": [
        "print(matrix.shape)"
      ],
      "metadata": {
        "colab": {
          "base_uri": "https://localhost:8080/"
        },
        "id": "i3zuqqZupGAT",
        "outputId": "36b91c6a-5b17-4c0d-8c42-fdeb3354d937"
      },
      "execution_count": 5,
      "outputs": [
        {
          "output_type": "stream",
          "name": "stdout",
          "text": [
            "(6000, 20, 10)\n"
          ]
        }
      ]
    },
    {
      "cell_type": "code",
      "source": [
        "# remove all the malicious sample\n",
        "# time series should be fixed\n",
        "time_series_len = 8\n",
        "benign_collect = list()\n",
        "mal_collect = list()\n",
        "for data in matrix:\n",
        "  flag = 1\n",
        "  for time in range(time_series_len):\n",
        "    if data[time][9] == 1:\n",
        "      flag = 0\n",
        "  if flag:\n",
        "    benign_collect.append(data[:time_series_len])\n",
        "  else:\n",
        "    mal_collect.append(data[:time_series_len])\n",
        "print(len(benign_collect))\n",
        "print(len(mal_collect))\n",
        "np.save('benign_collect.npy', benign_collect)\n",
        "np.save('mal_collect.npy', mal_collect)\n",
        "\n",
        "\n",
        "\n",
        "# randomly sample fixed length sample in the dataset (might include malicious data)\n",
        "\n"
      ],
      "metadata": {
        "colab": {
          "base_uri": "https://localhost:8080/"
        },
        "id": "KrofDmTB-WaY",
        "outputId": "80a2acc7-ddfe-44a8-eb09-15aeeb8333ad"
      },
      "execution_count": 37,
      "outputs": [
        {
          "output_type": "stream",
          "name": "stdout",
          "text": [
            "3085\n",
            "2915\n"
          ]
        }
      ]
    },
    {
      "cell_type": "code",
      "execution_count": 33,
      "metadata": {
        "colab": {
          "base_uri": "https://localhost:8080/"
        },
        "id": "8LswCDEuaHKT",
        "outputId": "1a6cce1c-0a40-49b0-f0f0-08aa573cf60c"
      },
      "outputs": [
        {
          "output_type": "stream",
          "name": "stdout",
          "text": [
            "Model: \"sequential_8\"\n",
            "_________________________________________________________________\n",
            " Layer (type)                Output Shape              Param #   \n",
            "=================================================================\n",
            " simple_rnn_8 (SimpleRNN)    (None, 32)                1344      \n",
            "                                                                 \n",
            " dense_8 (Dense)             (None, 1)                 33        \n",
            "                                                                 \n",
            "=================================================================\n",
            "Total params: 1,377\n",
            "Trainable params: 1,377\n",
            "Non-trainable params: 0\n",
            "_________________________________________________________________\n"
          ]
        }
      ],
      "source": [
        "from keras.models import Sequential\n",
        "from keras.layers import Dense, SimpleRNN\n",
        "import keras\n",
        "\n",
        "# Create a sequential model\n",
        "model = Sequential()\n",
        "\n",
        "# Add a SimpleRNN layer with 32 units and input shape of (6, 9)\n",
        "model.add(SimpleRNN(32, input_shape=(6, 9)))\n",
        "\n",
        "# Add a dense output layer with 1 unit and sigmoid activation function\n",
        "#model.add(Dense(1, activation='sigmoid'))\n",
        "model.add(Dense(1, activation='sigmoid'))\n",
        "\n",
        "# Compile the model with binary crossentropy loss and Adam optimizer\n",
        "#model.compile(loss='binary_crossentropy', optimizer='adam', metrics=['accuracy'])\n",
        "model.compile(loss='mean_squared_error', optimizer='adam', metrics=[keras.metrics.MeanSquaredError()]) # metrics=['accuracy']\n",
        "\n",
        "# Print the model summary\n",
        "model.summary()\n"
      ]
    },
    {
      "cell_type": "code",
      "source": [
        "# Generate some random training data\n",
        "'''\n",
        "X_train = matrix[:4000,:6, :9] / 10 #np.random.randn(100, 6, 9)\n",
        "y_train = matrix[:4000, 6, :9] / 10 #np.random.randint(2, size=(100, 1))\n",
        "\n",
        "model.fit(X_train, y_train, epochs=10, batch_size=32)\n",
        "\n",
        "print(X_train.shape)\n",
        "print(y_train.shape)\n",
        "\n",
        "print(matrix[:,:6,:9].shape)\n",
        "print(matrix[:,6,9].reshape(6000,1).shape)\n",
        "'''\n",
        "\n",
        "X_train = matrix[:5000, 0:6, :9] / 10 #np.random.randn(100, 6, 9)\n",
        "y_train = matrix[:5000, 6, :9] / 10 #np.random.randint(2, size=(100, 1))\n",
        "\n",
        "#model.fit(X_train, y_train, epochs=10, batch_size=32)\n",
        "\n",
        "\n",
        "X_val = matrix[5000:6000,0:6,:9] / 10 #np.random.randn(100, 6, 9)\n",
        "y_val = matrix[5000:6000,6, :9] / 10 #np.random.randint(2, size=(100, 1))\n",
        "\n",
        "# Train the model\n",
        "model.fit(X_train, y_train, epochs=100, batch_size=32, validation_data=(X_val, y_val))\n",
        "\n"
      ],
      "metadata": {
        "colab": {
          "base_uri": "https://localhost:8080/"
        },
        "id": "X9yV546malaX",
        "outputId": "b040db22-dc35-4107-89e4-dc5d72250099"
      },
      "execution_count": 34,
      "outputs": [
        {
          "output_type": "stream",
          "name": "stdout",
          "text": [
            "Epoch 1/100\n",
            "157/157 [==============================] - 1s 3ms/step - loss: 0.0566 - mean_squared_error: 0.0566 - val_loss: 0.0495 - val_mean_squared_error: 0.0495\n",
            "Epoch 2/100\n",
            "157/157 [==============================] - 0s 3ms/step - loss: 0.0469 - mean_squared_error: 0.0469 - val_loss: 0.0496 - val_mean_squared_error: 0.0496\n",
            "Epoch 3/100\n",
            "157/157 [==============================] - 0s 2ms/step - loss: 0.0465 - mean_squared_error: 0.0465 - val_loss: 0.0486 - val_mean_squared_error: 0.0486\n",
            "Epoch 4/100\n",
            "157/157 [==============================] - 0s 2ms/step - loss: 0.0463 - mean_squared_error: 0.0463 - val_loss: 0.0487 - val_mean_squared_error: 0.0487\n",
            "Epoch 5/100\n",
            "157/157 [==============================] - 0s 2ms/step - loss: 0.0462 - mean_squared_error: 0.0462 - val_loss: 0.0489 - val_mean_squared_error: 0.0489\n",
            "Epoch 6/100\n",
            "157/157 [==============================] - 0s 2ms/step - loss: 0.0461 - mean_squared_error: 0.0461 - val_loss: 0.0483 - val_mean_squared_error: 0.0483\n",
            "Epoch 7/100\n",
            "157/157 [==============================] - 0s 2ms/step - loss: 0.0459 - mean_squared_error: 0.0459 - val_loss: 0.0482 - val_mean_squared_error: 0.0482\n",
            "Epoch 8/100\n",
            "157/157 [==============================] - 0s 2ms/step - loss: 0.0459 - mean_squared_error: 0.0459 - val_loss: 0.0482 - val_mean_squared_error: 0.0482\n",
            "Epoch 9/100\n",
            "157/157 [==============================] - 0s 3ms/step - loss: 0.0458 - mean_squared_error: 0.0458 - val_loss: 0.0482 - val_mean_squared_error: 0.0482\n",
            "Epoch 10/100\n",
            "157/157 [==============================] - 0s 3ms/step - loss: 0.0458 - mean_squared_error: 0.0458 - val_loss: 0.0481 - val_mean_squared_error: 0.0481\n",
            "Epoch 11/100\n",
            "157/157 [==============================] - 0s 3ms/step - loss: 0.0458 - mean_squared_error: 0.0458 - val_loss: 0.0481 - val_mean_squared_error: 0.0481\n",
            "Epoch 12/100\n",
            "157/157 [==============================] - 1s 3ms/step - loss: 0.0458 - mean_squared_error: 0.0458 - val_loss: 0.0483 - val_mean_squared_error: 0.0483\n",
            "Epoch 13/100\n",
            "157/157 [==============================] - 0s 3ms/step - loss: 0.0458 - mean_squared_error: 0.0458 - val_loss: 0.0480 - val_mean_squared_error: 0.0480\n",
            "Epoch 14/100\n",
            "157/157 [==============================] - 0s 2ms/step - loss: 0.0456 - mean_squared_error: 0.0456 - val_loss: 0.0483 - val_mean_squared_error: 0.0483\n",
            "Epoch 15/100\n",
            "157/157 [==============================] - 0s 2ms/step - loss: 0.0457 - mean_squared_error: 0.0457 - val_loss: 0.0479 - val_mean_squared_error: 0.0479\n",
            "Epoch 16/100\n",
            "157/157 [==============================] - 0s 2ms/step - loss: 0.0456 - mean_squared_error: 0.0456 - val_loss: 0.0480 - val_mean_squared_error: 0.0480\n",
            "Epoch 17/100\n",
            "157/157 [==============================] - 0s 2ms/step - loss: 0.0456 - mean_squared_error: 0.0456 - val_loss: 0.0480 - val_mean_squared_error: 0.0480\n",
            "Epoch 18/100\n",
            "157/157 [==============================] - 0s 2ms/step - loss: 0.0457 - mean_squared_error: 0.0457 - val_loss: 0.0480 - val_mean_squared_error: 0.0480\n",
            "Epoch 19/100\n",
            "157/157 [==============================] - 0s 2ms/step - loss: 0.0456 - mean_squared_error: 0.0456 - val_loss: 0.0479 - val_mean_squared_error: 0.0479\n",
            "Epoch 20/100\n",
            "157/157 [==============================] - 0s 2ms/step - loss: 0.0456 - mean_squared_error: 0.0456 - val_loss: 0.0479 - val_mean_squared_error: 0.0479\n",
            "Epoch 21/100\n",
            "157/157 [==============================] - 0s 2ms/step - loss: 0.0456 - mean_squared_error: 0.0456 - val_loss: 0.0479 - val_mean_squared_error: 0.0479\n",
            "Epoch 22/100\n",
            "157/157 [==============================] - 0s 2ms/step - loss: 0.0455 - mean_squared_error: 0.0455 - val_loss: 0.0482 - val_mean_squared_error: 0.0482\n",
            "Epoch 23/100\n",
            "157/157 [==============================] - 0s 2ms/step - loss: 0.0455 - mean_squared_error: 0.0455 - val_loss: 0.0482 - val_mean_squared_error: 0.0482\n",
            "Epoch 24/100\n",
            "157/157 [==============================] - 0s 2ms/step - loss: 0.0455 - mean_squared_error: 0.0455 - val_loss: 0.0478 - val_mean_squared_error: 0.0478\n",
            "Epoch 25/100\n",
            "157/157 [==============================] - 0s 2ms/step - loss: 0.0455 - mean_squared_error: 0.0455 - val_loss: 0.0483 - val_mean_squared_error: 0.0483\n",
            "Epoch 26/100\n",
            "157/157 [==============================] - 0s 2ms/step - loss: 0.0455 - mean_squared_error: 0.0455 - val_loss: 0.0479 - val_mean_squared_error: 0.0479\n",
            "Epoch 27/100\n",
            "157/157 [==============================] - 0s 2ms/step - loss: 0.0454 - mean_squared_error: 0.0454 - val_loss: 0.0479 - val_mean_squared_error: 0.0479\n",
            "Epoch 28/100\n",
            "157/157 [==============================] - 0s 2ms/step - loss: 0.0455 - mean_squared_error: 0.0455 - val_loss: 0.0479 - val_mean_squared_error: 0.0479\n",
            "Epoch 29/100\n",
            "157/157 [==============================] - 0s 2ms/step - loss: 0.0454 - mean_squared_error: 0.0454 - val_loss: 0.0481 - val_mean_squared_error: 0.0481\n",
            "Epoch 30/100\n",
            "157/157 [==============================] - 0s 2ms/step - loss: 0.0454 - mean_squared_error: 0.0454 - val_loss: 0.0484 - val_mean_squared_error: 0.0484\n",
            "Epoch 31/100\n",
            "157/157 [==============================] - 0s 2ms/step - loss: 0.0455 - mean_squared_error: 0.0455 - val_loss: 0.0480 - val_mean_squared_error: 0.0480\n",
            "Epoch 32/100\n",
            "157/157 [==============================] - 0s 2ms/step - loss: 0.0454 - mean_squared_error: 0.0454 - val_loss: 0.0481 - val_mean_squared_error: 0.0481\n",
            "Epoch 33/100\n",
            "157/157 [==============================] - 0s 2ms/step - loss: 0.0453 - mean_squared_error: 0.0453 - val_loss: 0.0480 - val_mean_squared_error: 0.0480\n",
            "Epoch 34/100\n",
            "157/157 [==============================] - 0s 2ms/step - loss: 0.0454 - mean_squared_error: 0.0454 - val_loss: 0.0483 - val_mean_squared_error: 0.0483\n",
            "Epoch 35/100\n",
            "157/157 [==============================] - 0s 2ms/step - loss: 0.0454 - mean_squared_error: 0.0454 - val_loss: 0.0479 - val_mean_squared_error: 0.0479\n",
            "Epoch 36/100\n",
            "157/157 [==============================] - 0s 2ms/step - loss: 0.0454 - mean_squared_error: 0.0454 - val_loss: 0.0478 - val_mean_squared_error: 0.0478\n",
            "Epoch 37/100\n",
            "157/157 [==============================] - 0s 2ms/step - loss: 0.0452 - mean_squared_error: 0.0452 - val_loss: 0.0481 - val_mean_squared_error: 0.0481\n",
            "Epoch 38/100\n",
            "157/157 [==============================] - 0s 2ms/step - loss: 0.0454 - mean_squared_error: 0.0454 - val_loss: 0.0481 - val_mean_squared_error: 0.0481\n",
            "Epoch 39/100\n",
            "157/157 [==============================] - 0s 2ms/step - loss: 0.0453 - mean_squared_error: 0.0453 - val_loss: 0.0478 - val_mean_squared_error: 0.0478\n",
            "Epoch 40/100\n",
            "157/157 [==============================] - 0s 2ms/step - loss: 0.0452 - mean_squared_error: 0.0452 - val_loss: 0.0481 - val_mean_squared_error: 0.0481\n",
            "Epoch 41/100\n",
            "157/157 [==============================] - 0s 2ms/step - loss: 0.0453 - mean_squared_error: 0.0453 - val_loss: 0.0479 - val_mean_squared_error: 0.0479\n",
            "Epoch 42/100\n",
            "157/157 [==============================] - 0s 3ms/step - loss: 0.0452 - mean_squared_error: 0.0452 - val_loss: 0.0479 - val_mean_squared_error: 0.0479\n",
            "Epoch 43/100\n",
            "157/157 [==============================] - 0s 3ms/step - loss: 0.0452 - mean_squared_error: 0.0452 - val_loss: 0.0478 - val_mean_squared_error: 0.0478\n",
            "Epoch 44/100\n",
            "157/157 [==============================] - 0s 3ms/step - loss: 0.0452 - mean_squared_error: 0.0452 - val_loss: 0.0478 - val_mean_squared_error: 0.0478\n",
            "Epoch 45/100\n",
            "157/157 [==============================] - 0s 3ms/step - loss: 0.0451 - mean_squared_error: 0.0451 - val_loss: 0.0481 - val_mean_squared_error: 0.0481\n",
            "Epoch 46/100\n",
            "157/157 [==============================] - 0s 2ms/step - loss: 0.0451 - mean_squared_error: 0.0451 - val_loss: 0.0482 - val_mean_squared_error: 0.0482\n",
            "Epoch 47/100\n",
            "157/157 [==============================] - 0s 2ms/step - loss: 0.0451 - mean_squared_error: 0.0451 - val_loss: 0.0478 - val_mean_squared_error: 0.0478\n",
            "Epoch 48/100\n",
            "157/157 [==============================] - 0s 2ms/step - loss: 0.0451 - mean_squared_error: 0.0451 - val_loss: 0.0477 - val_mean_squared_error: 0.0477\n",
            "Epoch 49/100\n",
            "157/157 [==============================] - 0s 2ms/step - loss: 0.0451 - mean_squared_error: 0.0451 - val_loss: 0.0481 - val_mean_squared_error: 0.0481\n",
            "Epoch 50/100\n",
            "157/157 [==============================] - 0s 2ms/step - loss: 0.0450 - mean_squared_error: 0.0450 - val_loss: 0.0478 - val_mean_squared_error: 0.0478\n",
            "Epoch 51/100\n",
            "157/157 [==============================] - 0s 2ms/step - loss: 0.0451 - mean_squared_error: 0.0451 - val_loss: 0.0479 - val_mean_squared_error: 0.0479\n",
            "Epoch 52/100\n",
            "157/157 [==============================] - 0s 2ms/step - loss: 0.0450 - mean_squared_error: 0.0450 - val_loss: 0.0477 - val_mean_squared_error: 0.0477\n",
            "Epoch 53/100\n",
            "157/157 [==============================] - 0s 2ms/step - loss: 0.0450 - mean_squared_error: 0.0450 - val_loss: 0.0478 - val_mean_squared_error: 0.0478\n",
            "Epoch 54/100\n",
            "157/157 [==============================] - 0s 2ms/step - loss: 0.0449 - mean_squared_error: 0.0449 - val_loss: 0.0478 - val_mean_squared_error: 0.0478\n",
            "Epoch 55/100\n",
            "157/157 [==============================] - 0s 2ms/step - loss: 0.0449 - mean_squared_error: 0.0449 - val_loss: 0.0480 - val_mean_squared_error: 0.0480\n",
            "Epoch 56/100\n",
            "157/157 [==============================] - 0s 2ms/step - loss: 0.0449 - mean_squared_error: 0.0449 - val_loss: 0.0476 - val_mean_squared_error: 0.0476\n",
            "Epoch 57/100\n",
            "157/157 [==============================] - 0s 2ms/step - loss: 0.0449 - mean_squared_error: 0.0449 - val_loss: 0.0478 - val_mean_squared_error: 0.0478\n",
            "Epoch 58/100\n",
            "157/157 [==============================] - 0s 2ms/step - loss: 0.0449 - mean_squared_error: 0.0449 - val_loss: 0.0477 - val_mean_squared_error: 0.0477\n",
            "Epoch 59/100\n",
            "157/157 [==============================] - 0s 2ms/step - loss: 0.0449 - mean_squared_error: 0.0449 - val_loss: 0.0478 - val_mean_squared_error: 0.0478\n",
            "Epoch 60/100\n",
            "157/157 [==============================] - 0s 2ms/step - loss: 0.0449 - mean_squared_error: 0.0449 - val_loss: 0.0481 - val_mean_squared_error: 0.0481\n",
            "Epoch 61/100\n",
            "157/157 [==============================] - 0s 2ms/step - loss: 0.0448 - mean_squared_error: 0.0448 - val_loss: 0.0478 - val_mean_squared_error: 0.0478\n",
            "Epoch 62/100\n",
            "157/157 [==============================] - 0s 2ms/step - loss: 0.0448 - mean_squared_error: 0.0448 - val_loss: 0.0478 - val_mean_squared_error: 0.0478\n",
            "Epoch 63/100\n",
            "157/157 [==============================] - 0s 3ms/step - loss: 0.0448 - mean_squared_error: 0.0448 - val_loss: 0.0479 - val_mean_squared_error: 0.0479\n",
            "Epoch 64/100\n",
            "157/157 [==============================] - 0s 2ms/step - loss: 0.0448 - mean_squared_error: 0.0448 - val_loss: 0.0479 - val_mean_squared_error: 0.0479\n",
            "Epoch 65/100\n",
            "157/157 [==============================] - 0s 3ms/step - loss: 0.0447 - mean_squared_error: 0.0447 - val_loss: 0.0476 - val_mean_squared_error: 0.0476\n",
            "Epoch 66/100\n",
            "157/157 [==============================] - 0s 2ms/step - loss: 0.0447 - mean_squared_error: 0.0447 - val_loss: 0.0478 - val_mean_squared_error: 0.0478\n",
            "Epoch 67/100\n",
            "157/157 [==============================] - 0s 3ms/step - loss: 0.0446 - mean_squared_error: 0.0446 - val_loss: 0.0480 - val_mean_squared_error: 0.0480\n",
            "Epoch 68/100\n",
            "157/157 [==============================] - 0s 2ms/step - loss: 0.0446 - mean_squared_error: 0.0446 - val_loss: 0.0476 - val_mean_squared_error: 0.0476\n",
            "Epoch 69/100\n",
            "157/157 [==============================] - 0s 2ms/step - loss: 0.0446 - mean_squared_error: 0.0446 - val_loss: 0.0478 - val_mean_squared_error: 0.0478\n",
            "Epoch 70/100\n",
            "157/157 [==============================] - 0s 2ms/step - loss: 0.0446 - mean_squared_error: 0.0446 - val_loss: 0.0478 - val_mean_squared_error: 0.0478\n",
            "Epoch 71/100\n",
            "157/157 [==============================] - 0s 2ms/step - loss: 0.0446 - mean_squared_error: 0.0446 - val_loss: 0.0480 - val_mean_squared_error: 0.0480\n",
            "Epoch 72/100\n",
            "157/157 [==============================] - 0s 2ms/step - loss: 0.0445 - mean_squared_error: 0.0445 - val_loss: 0.0479 - val_mean_squared_error: 0.0479\n",
            "Epoch 73/100\n",
            "157/157 [==============================] - 0s 3ms/step - loss: 0.0445 - mean_squared_error: 0.0445 - val_loss: 0.0481 - val_mean_squared_error: 0.0481\n",
            "Epoch 74/100\n",
            "157/157 [==============================] - 0s 3ms/step - loss: 0.0445 - mean_squared_error: 0.0445 - val_loss: 0.0479 - val_mean_squared_error: 0.0479\n",
            "Epoch 75/100\n",
            "157/157 [==============================] - 0s 3ms/step - loss: 0.0445 - mean_squared_error: 0.0445 - val_loss: 0.0481 - val_mean_squared_error: 0.0481\n",
            "Epoch 76/100\n",
            "157/157 [==============================] - 0s 3ms/step - loss: 0.0445 - mean_squared_error: 0.0445 - val_loss: 0.0479 - val_mean_squared_error: 0.0479\n",
            "Epoch 77/100\n",
            "157/157 [==============================] - 0s 2ms/step - loss: 0.0444 - mean_squared_error: 0.0444 - val_loss: 0.0478 - val_mean_squared_error: 0.0478\n",
            "Epoch 78/100\n",
            "157/157 [==============================] - 0s 2ms/step - loss: 0.0444 - mean_squared_error: 0.0444 - val_loss: 0.0478 - val_mean_squared_error: 0.0478\n",
            "Epoch 79/100\n",
            "157/157 [==============================] - 0s 2ms/step - loss: 0.0444 - mean_squared_error: 0.0444 - val_loss: 0.0479 - val_mean_squared_error: 0.0479\n",
            "Epoch 80/100\n",
            "157/157 [==============================] - 0s 2ms/step - loss: 0.0444 - mean_squared_error: 0.0444 - val_loss: 0.0478 - val_mean_squared_error: 0.0478\n",
            "Epoch 81/100\n",
            "157/157 [==============================] - 0s 2ms/step - loss: 0.0443 - mean_squared_error: 0.0443 - val_loss: 0.0480 - val_mean_squared_error: 0.0480\n",
            "Epoch 82/100\n",
            "157/157 [==============================] - 0s 2ms/step - loss: 0.0443 - mean_squared_error: 0.0443 - val_loss: 0.0485 - val_mean_squared_error: 0.0485\n",
            "Epoch 83/100\n",
            "157/157 [==============================] - 0s 2ms/step - loss: 0.0443 - mean_squared_error: 0.0443 - val_loss: 0.0478 - val_mean_squared_error: 0.0478\n",
            "Epoch 84/100\n",
            "157/157 [==============================] - 0s 2ms/step - loss: 0.0443 - mean_squared_error: 0.0443 - val_loss: 0.0479 - val_mean_squared_error: 0.0479\n",
            "Epoch 85/100\n",
            "157/157 [==============================] - 0s 2ms/step - loss: 0.0443 - mean_squared_error: 0.0443 - val_loss: 0.0478 - val_mean_squared_error: 0.0478\n",
            "Epoch 86/100\n",
            "157/157 [==============================] - 0s 2ms/step - loss: 0.0442 - mean_squared_error: 0.0442 - val_loss: 0.0479 - val_mean_squared_error: 0.0479\n",
            "Epoch 87/100\n",
            "157/157 [==============================] - 0s 2ms/step - loss: 0.0442 - mean_squared_error: 0.0442 - val_loss: 0.0479 - val_mean_squared_error: 0.0479\n",
            "Epoch 88/100\n",
            "157/157 [==============================] - 0s 2ms/step - loss: 0.0441 - mean_squared_error: 0.0441 - val_loss: 0.0477 - val_mean_squared_error: 0.0477\n",
            "Epoch 89/100\n",
            "157/157 [==============================] - 0s 2ms/step - loss: 0.0442 - mean_squared_error: 0.0442 - val_loss: 0.0477 - val_mean_squared_error: 0.0477\n",
            "Epoch 90/100\n",
            "157/157 [==============================] - 0s 2ms/step - loss: 0.0441 - mean_squared_error: 0.0441 - val_loss: 0.0480 - val_mean_squared_error: 0.0480\n",
            "Epoch 91/100\n",
            "157/157 [==============================] - 0s 2ms/step - loss: 0.0441 - mean_squared_error: 0.0441 - val_loss: 0.0479 - val_mean_squared_error: 0.0479\n",
            "Epoch 92/100\n",
            "157/157 [==============================] - 0s 2ms/step - loss: 0.0441 - mean_squared_error: 0.0441 - val_loss: 0.0479 - val_mean_squared_error: 0.0479\n",
            "Epoch 93/100\n",
            "157/157 [==============================] - 0s 2ms/step - loss: 0.0441 - mean_squared_error: 0.0441 - val_loss: 0.0479 - val_mean_squared_error: 0.0479\n",
            "Epoch 94/100\n",
            "157/157 [==============================] - 0s 2ms/step - loss: 0.0440 - mean_squared_error: 0.0440 - val_loss: 0.0479 - val_mean_squared_error: 0.0479\n",
            "Epoch 95/100\n",
            "157/157 [==============================] - 0s 2ms/step - loss: 0.0440 - mean_squared_error: 0.0440 - val_loss: 0.0480 - val_mean_squared_error: 0.0480\n",
            "Epoch 96/100\n",
            "157/157 [==============================] - 0s 2ms/step - loss: 0.0439 - mean_squared_error: 0.0439 - val_loss: 0.0480 - val_mean_squared_error: 0.0480\n",
            "Epoch 97/100\n",
            "157/157 [==============================] - 0s 2ms/step - loss: 0.0440 - mean_squared_error: 0.0440 - val_loss: 0.0479 - val_mean_squared_error: 0.0479\n",
            "Epoch 98/100\n",
            "157/157 [==============================] - 0s 2ms/step - loss: 0.0439 - mean_squared_error: 0.0439 - val_loss: 0.0478 - val_mean_squared_error: 0.0478\n",
            "Epoch 99/100\n",
            "157/157 [==============================] - 0s 2ms/step - loss: 0.0440 - mean_squared_error: 0.0440 - val_loss: 0.0478 - val_mean_squared_error: 0.0478\n",
            "Epoch 100/100\n",
            "157/157 [==============================] - 0s 2ms/step - loss: 0.0439 - mean_squared_error: 0.0439 - val_loss: 0.0480 - val_mean_squared_error: 0.0480\n"
          ]
        },
        {
          "output_type": "execute_result",
          "data": {
            "text/plain": [
              "<keras.callbacks.History at 0x7f0ffd12cca0>"
            ]
          },
          "metadata": {},
          "execution_count": 34
        }
      ]
    },
    {
      "cell_type": "code",
      "source": [],
      "metadata": {
        "id": "-0j5bQmr0Z-M"
      },
      "execution_count": 38,
      "outputs": []
    },
    {
      "cell_type": "markdown",
      "source": [],
      "metadata": {
        "id": "ztU3f-Gt0Zqs"
      }
    }
  ]
}